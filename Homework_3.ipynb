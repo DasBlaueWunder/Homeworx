{
  "nbformat": 4,
  "nbformat_minor": 0,
  "metadata": {
    "colab": {
      "name": "Homework 3.ipynb",
      "provenance": []
    },
    "kernelspec": {
      "name": "python3",
      "display_name": "Python 3"
    }
  },
  "cells": [
    {
      "cell_type": "markdown",
      "metadata": {
        "id": "sdTHlWA8AK9G"
      },
      "source": [
        "# Homework 3\n",
        "\n",
        "First example with Tensorflow"
      ]
    },
    {
      "cell_type": "code",
      "metadata": {
        "id": "gpVclWs6AmrE"
      },
      "source": [
        "import numpy as np\n",
        "import tensorflow as tf\n",
        "import tensorflow_datasets as tfds\n",
        "import matplotlib.pyplot as plt"
      ],
      "execution_count": null,
      "outputs": []
    },
    {
      "cell_type": "code",
      "metadata": {
        "id": "mW3oiRmaBSGA"
      },
      "source": [
        "def onehotify(tensor):\n",
        "  vocab = {'A':'1', 'C': '2', 'G':'3', 'T':'4'}\n",
        "  for key in vocab.keys():\n",
        "    tensor = tf.strings.regex_replace(tensor, key, vocab[key])\n",
        "    split = tf.strings.bytes_split(tensor)\n",
        "    labels = tf.cast(tf.strings.to_number(split), tf.uint8)\n",
        "    onehot = tf.one_hot(labels, 4)\n",
        "    onehot = tf.reshape(onehot, (-1,))\n",
        "  return onehot"
      ],
      "execution_count": null,
      "outputs": []
    },
    {
      "cell_type": "markdown",
      "metadata": {
        "id": "oCQDi3wHAU6H"
      },
      "source": [
        "## 1. Data Set\n",
        "Load `genomics_ood`"
      ]
    },
    {
      "cell_type": "code",
      "metadata": {
        "id": "H944LCpMAIwp"
      },
      "source": [
        "# Load train and test data as subsets (first 10%, last 1%) of the shuffled data set genomics_ood\n",
        "train_dataset, test_dataset = tfds.load(\"genomics_ood\", split=['train[:10%]', 'test[-1%:]'], as_supervised= True, shuffle_files=True)\n",
        "assert isinstance(train_dataset, tf.data.Dataset)\n",
        "\n",
        "# Onehotify of seq and labels (each data point contains 'seq' for the genom sequence and a corresponding label)\n",
        "train_dataset = train_dataset.map(lambda seq,label: (onehotify(seq),tf.one_hot(label, 10)))\n",
        "test_dataset = test_dataset.map(lambda seq,label: (onehotify(seq),tf.one_hot(label, 10)))\n",
        "\n",
        "# Batching and fetching\n",
        "# Another shuffle (buffer_size should be greater equal data set size)\n",
        "train_dataset = train_dataset.shuffle(buffer_size=100000).batch(100).prefetch(1)\n",
        "test_dataset = test_dataset.shuffle(buffer_size=1000).batch(10).prefetch(1)"
      ],
      "execution_count": null,
      "outputs": []
    },
    {
      "cell_type": "markdown",
      "metadata": {
        "id": "MUctDDAtTc_H"
      },
      "source": [
        "## 2. Model\n",
        "\n",
        "We use a fully connected feed forward neural network with two hidden layers, each with 256 units and sigmoid activation function and an output layer of size 10 with softmax activation function."
      ]
    },
    {
      "cell_type": "code",
      "metadata": {
        "id": "Hsf2vwTcT1L9"
      },
      "source": [
        "from tensorflow.keras import Model\n",
        "from tensorflow.keras.layers import Layer\n",
        "\n",
        "class Model(Model): \n",
        "    \n",
        "    def __init__(self):\n",
        "        super(Model, self).__init__()\n",
        "        # Two hidden layers\n",
        "        self.hidden_layer_1 = tf.keras.layers.Dense(units=256,\n",
        "                                               activation=tf.keras.activations.sigmoid\n",
        "                                               )\n",
        "        self.hidden_layer_2 = tf.keras.layers.Dense(units=256,\n",
        "                                               activation=tf.keras.activations.sigmoid\n",
        "                                               )\n",
        "        # Output Layer\n",
        "        self.output_layer = tf.keras.layers.Dense(units=10,\n",
        "                                               activation=tf.keras.activations.softmax\n",
        "                                               )\n",
        "    def call(self, x):\n",
        "        # Define the forward step.\n",
        "        x = self.hidden_layer_1(x)\n",
        "        x = self.hidden_layer_2(x)\n",
        "        x = self.output_layer(x)\n",
        "        return x"
      ],
      "execution_count": null,
      "outputs": []
    },
    {
      "cell_type": "markdown",
      "metadata": {
        "id": "aFwg8U18UB-T"
      },
      "source": [
        "## 3. Training\n",
        "Train with SGD for 10 epochs with a learning rate of 0.1, while the loss is categorical cross entropy."
      ]
    },
    {
      "cell_type": "code",
      "metadata": {
        "id": "_Aci2bJoUSzx"
      },
      "source": [
        "def train_step(model, input, target, loss_function, optimizer):\n",
        "  # loss_object and optimizer_object are instances of respective tensorflow classes\n",
        "  with tf.GradientTape() as tape:\n",
        "    prediction = model(input)\n",
        "    loss = loss_function(target, prediction)\n",
        "    gradients = tape.gradient(loss, model.trainable_variables)\n",
        "  optimizer.apply_gradients(zip(gradients, model.trainable_variables))\n",
        "  return loss \n",
        "\n",
        "def test(model, test_data, loss_function):\n",
        "  # test over complete test data\n",
        "\n",
        "  test_accuracy_aggregator = []\n",
        "  test_loss_aggregator = []\n",
        "\n",
        "  for (input, target) in test_data:\n",
        "    prediction = model(input)\n",
        "    sample_test_loss = loss_function(target, prediction)\n",
        "    sample_test_accuracy =  np.argmax(target, axis=1) == np.argmax(prediction, axis=1)\n",
        "    sample_test_accuracy = np.mean(sample_test_accuracy)\n",
        "    test_loss_aggregator.append(sample_test_loss.numpy())\n",
        "    test_accuracy_aggregator.append(np.mean(sample_test_accuracy))\n",
        "\n",
        "  test_loss = np.mean(test_loss_aggregator)\n",
        "  test_accuracy = np.mean(test_accuracy_aggregator)\n",
        "\n",
        "  return test_loss, test_accuracy"
      ],
      "execution_count": null,
      "outputs": []
    },
    {
      "cell_type": "code",
      "metadata": {
        "id": "br5wd_n_UlpD",
        "colab": {
          "base_uri": "https://localhost:8080/"
        },
        "outputId": "79d13e66-c501-4ad7-d22d-9d6f40639109"
      },
      "source": [
        "tf.keras.backend.clear_session()\n",
        "\n",
        "### Hyperparameters\n",
        "num_epochs = 10\n",
        "learning_rate = 0.1\n",
        "\n",
        "# Initialize the model.\n",
        "model = Model()\n",
        "# Initialize the loss: categorical cross entropy. Check out 'tf.keras.losses'.\n",
        "cross_entropy_loss = tf.keras.losses.CategoricalCrossentropy()\n",
        "# Initialize the optimizer: Adam with default parameters. Check out 'tf.keras.optimizers'\n",
        "optimizer = tf.keras.optimizers.SGD(learning_rate)\n",
        "\n",
        "# Initialize lists for later visualization.\n",
        "train_losses = []\n",
        "test_losses = []\n",
        "test_accuracies = []\n",
        "\n",
        "#testing once before we begin\n",
        "test_loss, test_accuracy = test(model, test_dataset, cross_entropy_loss)\n",
        "test_losses.append(test_loss)\n",
        "test_accuracies.append(test_accuracy)\n",
        "\n",
        "#check how model performs on train data once before we begin\n",
        "train_loss, _ = test(model, train_dataset, cross_entropy_loss)\n",
        "train_losses.append(train_loss)\n",
        "\n",
        "# We train for num_epochs epochs.\n",
        "for epoch in range(num_epochs):\n",
        "    print('Epoch: ' + str(epoch))\n",
        "\n",
        "    train_dataset = train_dataset.shuffle(buffer_size=100000)\n",
        "    test_dataset = test_dataset.shuffle(buffer_size=1000)\n",
        "\n",
        "    #training (and checking in with training)\n",
        "    for (input,target) in train_dataset:\n",
        "        train_loss = train_step(model, input, target, cross_entropy_loss, optimizer)\n",
        "    train_losses.append(train_loss)\n",
        "\n",
        "    #testing\n",
        "    test_loss, test_accuracy = test(model, test_dataset, cross_entropy_loss)\n",
        "    test_losses.append(test_loss)\n",
        "    test_accuracies.append(test_accuracy)"
      ],
      "execution_count": null,
      "outputs": [
        {
          "output_type": "stream",
          "text": [
            "Epoch: 0\n",
            "Epoch: 1\n",
            "Epoch: 2\n",
            "Epoch: 3\n",
            "Epoch: 4\n",
            "Epoch: 5\n",
            "Epoch: 6\n",
            "Epoch: 7\n",
            "Epoch: 8\n",
            "Epoch: 9\n"
          ],
          "name": "stdout"
        }
      ]
    },
    {
      "cell_type": "markdown",
      "metadata": {
        "id": "YpSuvI1fU14E"
      },
      "source": [
        "## 4. Visualization\n",
        "Visualize both accuracy and loss for training and test data"
      ]
    },
    {
      "cell_type": "code",
      "metadata": {
        "id": "IhiHWJo8U9u3",
        "colab": {
          "base_uri": "https://localhost:8080/",
          "height": 544
        },
        "outputId": "aebb6ed3-a399-40ba-b176-2ab2bbfb258a"
      },
      "source": [
        "%matplotlib inline\n",
        "\n",
        "# Loss (in one plot)\n",
        "plt.figure()\n",
        "line1, = plt.plot(train_losses)\n",
        "line2, = plt.plot(test_losses)\n",
        "plt.xlabel(\"Training steps\")\n",
        "plt.ylabel(\"Loss\")\n",
        "plt.legend((line1,line2),(\"training\",\"test\"))\n",
        "plt.show()\n",
        "\n",
        "# Accuracy\n",
        "plt.figure()\n",
        "plt.plot(test_accuracies)\n",
        "plt.xlabel(\"Training steps\")\n",
        "plt.ylabel(\"Accuracy\")\n",
        "plt.show()"
      ],
      "execution_count": null,
      "outputs": [
        {
          "output_type": "display_data",
          "data": {
            "image/png": "[encoded data removed]",
            "text/plain": [
              "<Figure size 432x288 with 1 Axes>"
            ]
          },
          "metadata": {
            "tags": [],
            "needs_background": "light"
          }
        },
        {
          "output_type": "display_data",
          "data": {
            "image/png": "[encoded data removed]",
            "text/plain": [
              "<Figure size 432x288 with 1 Axes>"
            ]
          },
          "metadata": {
            "tags": [],
            "needs_background": "light"
          }
        }
      ]
    },
    {
      "cell_type": "code",
      "metadata": {
        "colab": {
          "base_uri": "https://localhost:8080/"
        },
        "id": "F83GchJljf-Q",
        "outputId": "42ac86ba-288c-4236-eacc-39b62aa77e35"
      },
      "source": [
        "for acc in test_accuracies:\n",
        "  print(acc)"
      ],
      "execution_count": null,
      "outputs": [
        {
          "output_type": "stream",
          "text": [
            "0.10300000000000001\n",
            "0.342\n",
            "0.32299999999999995\n",
            "0.36\n",
            "0.32900000000000007\n",
            "0.33699999999999997\n",
            "0.342\n",
            "0.3579999999999999\n",
            "0.35300000000000004\n",
            "0.3660000000000001\n",
            "0.353\n"
          ],
          "name": "stdout"
        }
      ]
    }
  ]
}